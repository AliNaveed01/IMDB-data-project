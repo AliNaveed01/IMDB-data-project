{
 "cells": [
  {
   "cell_type": "code",
   "execution_count": 41,
   "metadata": {},
   "outputs": [],
   "source": [
    "import numpy as np\n",
    "import pandas as pd\n",
    "import seaborn as sns\n",
    "import matplotlib.pyplot as plt\n",
    "import nltk\n",
    "from sklearn.feature_extraction.text import CountVectorizer\n",
    "from sklearn.feature_extraction.text import TfidfVectorizer\n",
    "from sklearn.preprocessing import LabelBinarizer\n",
    "from nltk.corpus import stopwords\n",
    "from nltk.stem.porter import PorterStemmer\n",
    "from nltk.stem import WordNetLemmatizer\n",
    "from nltk.tokenize import word_tokenize,sent_tokenize\n",
    "from bs4 import BeautifulSoup\n",
    "import re,string,unicodedata\n",
    "from nltk.tokenize.toktok import ToktokTokenizer\n",
    "from nltk.stem import LancasterStemmer,WordNetLemmatizer\n",
    "from sklearn.linear_model import LogisticRegression,SGDClassifier\n",
    "from sklearn.naive_bayes import MultinomialNB\n",
    "from sklearn.svm import SVC\n",
    "from sklearn.metrics import classification_report,confusion_matrix,accuracy_score"
   ]
  },
  {
   "cell_type": "code",
   "execution_count": 42,
   "metadata": {},
   "outputs": [
    {
     "data": {
      "text/html": [
       "<div>\n",
       "<style scoped>\n",
       "    .dataframe tbody tr th:only-of-type {\n",
       "        vertical-align: middle;\n",
       "    }\n",
       "\n",
       "    .dataframe tbody tr th {\n",
       "        vertical-align: top;\n",
       "    }\n",
       "\n",
       "    .dataframe thead th {\n",
       "        text-align: right;\n",
       "    }\n",
       "</style>\n",
       "<table border=\"1\" class=\"dataframe\">\n",
       "  <thead>\n",
       "    <tr style=\"text-align: right;\">\n",
       "      <th></th>\n",
       "      <th>Name of Movie</th>\n",
       "      <th>Year</th>\n",
       "      <th>Genre</th>\n",
       "      <th>Rating</th>\n",
       "      <th>review</th>\n",
       "      <th>sentiment</th>\n",
       "    </tr>\n",
       "  </thead>\n",
       "  <tbody>\n",
       "    <tr>\n",
       "      <th>0</th>\n",
       "      <td>Avatar</td>\n",
       "      <td>2009.0</td>\n",
       "      <td>Action|Adventure|Fantasy|Sci-Fi</td>\n",
       "      <td>7.9</td>\n",
       "      <td>Avatar is one of the best films of the year. T...</td>\n",
       "      <td>positive</td>\n",
       "    </tr>\n",
       "    <tr>\n",
       "      <th>1</th>\n",
       "      <td>Pirates of the Caribbean: At World's End</td>\n",
       "      <td>2007.0</td>\n",
       "      <td>Action|Adventure|Fantasy</td>\n",
       "      <td>7.1</td>\n",
       "      <td>this movie is amazing. It is original, full of...</td>\n",
       "      <td>positive</td>\n",
       "    </tr>\n",
       "    <tr>\n",
       "      <th>2</th>\n",
       "      <td>Spectre</td>\n",
       "      <td>2015.0</td>\n",
       "      <td>Action|Adventure|Thriller</td>\n",
       "      <td>6.8</td>\n",
       "      <td>I wasted 3 important hours of my life watching...</td>\n",
       "      <td>negative</td>\n",
       "    </tr>\n",
       "    <tr>\n",
       "      <th>3</th>\n",
       "      <td>The Dark Knight Rises</td>\n",
       "      <td>2012.0</td>\n",
       "      <td>Action|Thriller</td>\n",
       "      <td>8.5</td>\n",
       "      <td>This movie is a work of art. The finest sequel...</td>\n",
       "      <td>positive</td>\n",
       "    </tr>\n",
       "    <tr>\n",
       "      <th>4</th>\n",
       "      <td>Star Wars: Episode VII - The Force Awakens    ...</td>\n",
       "      <td>2015.0</td>\n",
       "      <td>Documentary</td>\n",
       "      <td>7.1</td>\n",
       "      <td>This is by the far worst piece of cr4p I've ev...</td>\n",
       "      <td>negative</td>\n",
       "    </tr>\n",
       "  </tbody>\n",
       "</table>\n",
       "</div>"
      ],
      "text/plain": [
       "                                       Name of Movie    Year  \\\n",
       "0                                            Avatar   2009.0   \n",
       "1          Pirates of the Caribbean: At World's End   2007.0   \n",
       "2                                           Spectre   2015.0   \n",
       "3                             The Dark Knight Rises   2012.0   \n",
       "4  Star Wars: Episode VII - The Force Awakens    ...  2015.0   \n",
       "\n",
       "                             Genre  Rating  \\\n",
       "0  Action|Adventure|Fantasy|Sci-Fi     7.9   \n",
       "1         Action|Adventure|Fantasy     7.1   \n",
       "2        Action|Adventure|Thriller     6.8   \n",
       "3                  Action|Thriller     8.5   \n",
       "4                      Documentary     7.1   \n",
       "\n",
       "                                              review sentiment  \n",
       "0  Avatar is one of the best films of the year. T...  positive  \n",
       "1  this movie is amazing. It is original, full of...  positive  \n",
       "2  I wasted 3 important hours of my life watching...  negative  \n",
       "3  This movie is a work of art. The finest sequel...  positive  \n",
       "4  This is by the far worst piece of cr4p I've ev...  negative  "
      ]
     },
     "execution_count": 42,
     "metadata": {},
     "output_type": "execute_result"
    }
   ],
   "source": [
    "#data1=pd.read_csv(r\"C:\\Users\\Mohammad Noor Malik\\Downloads\\IMDB data.csv\")\n",
    "data=pd.read_excel(r\"C:\\Users\\Mohammad Noor Malik\\Downloads\\Movies with reviews.xlsx\") \n",
    "data.head()\n",
    "\n"
   ]
  },
  {
   "cell_type": "code",
   "execution_count": 43,
   "metadata": {},
   "outputs": [],
   "source": [
    "#Tokenization of text\n",
    "tokenizer=ToktokTokenizer()\n",
    "#Setting English stopwords\n",
    "stopword_list=nltk.corpus.stopwords.words('english')\n"
   ]
  },
  {
   "cell_type": "code",
   "execution_count": 44,
   "metadata": {},
   "outputs": [],
   "source": [
    "\n",
    "def remove_between_square_brackets(text):\n",
    "    return re.sub('\\[[^]]*\\]', '', str(text))\n",
    "    #x = re.sub('[^a-zA-Z]', '', str(x))\n",
    "\n",
    "#cleaning the text\n",
    "def denoise_text(text):\n",
    "    text = remove_between_square_brackets(text)\n",
    "    return text\n",
    "\n",
    "data['review']=data['review'].apply(remove_between_square_brackets)"
   ]
  },
  {
   "cell_type": "code",
   "execution_count": 45,
   "metadata": {},
   "outputs": [
    {
     "data": {
      "text/html": [
       "<div>\n",
       "<style scoped>\n",
       "    .dataframe tbody tr th:only-of-type {\n",
       "        vertical-align: middle;\n",
       "    }\n",
       "\n",
       "    .dataframe tbody tr th {\n",
       "        vertical-align: top;\n",
       "    }\n",
       "\n",
       "    .dataframe thead th {\n",
       "        text-align: right;\n",
       "    }\n",
       "</style>\n",
       "<table border=\"1\" class=\"dataframe\">\n",
       "  <thead>\n",
       "    <tr style=\"text-align: right;\">\n",
       "      <th></th>\n",
       "      <th>Name of Movie</th>\n",
       "      <th>Year</th>\n",
       "      <th>Genre</th>\n",
       "      <th>Rating</th>\n",
       "      <th>review</th>\n",
       "      <th>sentiment</th>\n",
       "    </tr>\n",
       "  </thead>\n",
       "  <tbody>\n",
       "    <tr>\n",
       "      <th>0</th>\n",
       "      <td>Avatar</td>\n",
       "      <td>2009.0</td>\n",
       "      <td>Action|Adventure|Fantasy|Sci-Fi</td>\n",
       "      <td>7.9</td>\n",
       "      <td>Avatar is one of the best films of the year Th...</td>\n",
       "      <td>positive</td>\n",
       "    </tr>\n",
       "    <tr>\n",
       "      <th>1</th>\n",
       "      <td>Pirates of the Caribbean: At World's End</td>\n",
       "      <td>2007.0</td>\n",
       "      <td>Action|Adventure|Fantasy</td>\n",
       "      <td>7.1</td>\n",
       "      <td>this movie is amazing It is original full of t...</td>\n",
       "      <td>positive</td>\n",
       "    </tr>\n",
       "    <tr>\n",
       "      <th>2</th>\n",
       "      <td>Spectre</td>\n",
       "      <td>2015.0</td>\n",
       "      <td>Action|Adventure|Thriller</td>\n",
       "      <td>6.8</td>\n",
       "      <td>I wasted 3 important hours of my life watching...</td>\n",
       "      <td>negative</td>\n",
       "    </tr>\n",
       "    <tr>\n",
       "      <th>3</th>\n",
       "      <td>The Dark Knight Rises</td>\n",
       "      <td>2012.0</td>\n",
       "      <td>Action|Thriller</td>\n",
       "      <td>8.5</td>\n",
       "      <td>This movie is a work of art The finest sequel ...</td>\n",
       "      <td>positive</td>\n",
       "    </tr>\n",
       "    <tr>\n",
       "      <th>4</th>\n",
       "      <td>Star Wars: Episode VII - The Force Awakens    ...</td>\n",
       "      <td>2015.0</td>\n",
       "      <td>Documentary</td>\n",
       "      <td>7.1</td>\n",
       "      <td>This is by the far worst piece of cr4p Ive eve...</td>\n",
       "      <td>negative</td>\n",
       "    </tr>\n",
       "    <tr>\n",
       "      <th>5</th>\n",
       "      <td>John Carter</td>\n",
       "      <td>2012.0</td>\n",
       "      <td>Action|Adventure|Sci-Fi</td>\n",
       "      <td>6.6</td>\n",
       "      <td>sadlythis is not the best of the movies to wat...</td>\n",
       "      <td>negative</td>\n",
       "    </tr>\n",
       "    <tr>\n",
       "      <th>6</th>\n",
       "      <td>Spider-Man 3</td>\n",
       "      <td>2007.0</td>\n",
       "      <td>Action|Adventure|Romance</td>\n",
       "      <td>6.2</td>\n",
       "      <td>Tobie was is and will be the best spidie in th...</td>\n",
       "      <td>positive</td>\n",
       "    </tr>\n",
       "  </tbody>\n",
       "</table>\n",
       "</div>"
      ],
      "text/plain": [
       "                                       Name of Movie    Year  \\\n",
       "0                                            Avatar   2009.0   \n",
       "1          Pirates of the Caribbean: At World's End   2007.0   \n",
       "2                                           Spectre   2015.0   \n",
       "3                             The Dark Knight Rises   2012.0   \n",
       "4  Star Wars: Episode VII - The Force Awakens    ...  2015.0   \n",
       "5                                       John Carter   2012.0   \n",
       "6                                      Spider-Man 3   2007.0   \n",
       "\n",
       "                             Genre  Rating  \\\n",
       "0  Action|Adventure|Fantasy|Sci-Fi     7.9   \n",
       "1         Action|Adventure|Fantasy     7.1   \n",
       "2        Action|Adventure|Thriller     6.8   \n",
       "3                  Action|Thriller     8.5   \n",
       "4                      Documentary     7.1   \n",
       "5          Action|Adventure|Sci-Fi     6.6   \n",
       "6         Action|Adventure|Romance     6.2   \n",
       "\n",
       "                                              review sentiment  \n",
       "0  Avatar is one of the best films of the year Th...  positive  \n",
       "1  this movie is amazing It is original full of t...  positive  \n",
       "2  I wasted 3 important hours of my life watching...  negative  \n",
       "3  This movie is a work of art The finest sequel ...  positive  \n",
       "4  This is by the far worst piece of cr4p Ive eve...  negative  \n",
       "5  sadlythis is not the best of the movies to wat...  negative  \n",
       "6  Tobie was is and will be the best spidie in th...  positive  "
      ]
     },
     "execution_count": 45,
     "metadata": {},
     "output_type": "execute_result"
    }
   ],
   "source": [
    "def remove_special_characters(text, remove_digits=True):\n",
    "    pattern=r'[^a-zA-z0-9\\s]'\n",
    "    text=re.sub(pattern,'',text)\n",
    "    return text\n",
    "#Apply function on review column\n",
    "data['review']=data['review'].apply(remove_special_characters)\n",
    "data.head(7)"
   ]
  },
  {
   "cell_type": "code",
   "execution_count": 46,
   "metadata": {},
   "outputs": [
    {
     "name": "stdout",
     "output_type": "stream",
     "text": [
      "{'during', 'your', 'our', 'her', \"you've\", 'ourselves', \"it's\", 'below', 'won', \"weren't\", 'll', \"you'll\", \"should've\", 'because', 'm', 'as', 'again', 'more', 'was', 'where', 'than', 'o', 've', \"mightn't\", 'all', 'itself', 'any', 'for', 'weren', \"you're\", 'of', 'didn', 'ours', 'herself', \"you'd\", 'these', 'a', 'if', 'its', 'shan', 'is', 'there', 'mightn', 'had', \"couldn't\", 'needn', 'very', 'you', 'above', 'only', 'aren', 'me', 'been', 'i', \"haven't\", \"doesn't\", 'an', 'should', 'some', \"shan't\", \"didn't\", 'so', 'up', 'under', 'own', 'did', 'through', 'from', 'd', 'am', 'what', \"hasn't\", 'and', 'isn', 'shouldn', 'their', 'wasn', 'off', \"she's\", 'now', 'my', 'about', 'until', 'mustn', \"mustn't\", \"that'll\", 'theirs', 'wouldn', \"won't\", 'doing', 'against', 'ma', 'his', 'him', 'were', 'in', 'doesn', 'by', 'on', 'into', 'why', 'no', 'out', 'while', \"isn't\", 'each', 'couldn', 'be', 'then', 'themselves', 'yourself', 'can', 'we', 'at', 'both', 'whom', 're', \"aren't\", 'that', 'such', 't', \"wouldn't\", 's', 'they', 'will', \"shouldn't\", 'myself', 'between', \"don't\", 'how', 'down', 'those', 'which', 'nor', 'before', 'don', 'too', 'ain', 'she', 'or', 'it', 'not', 'over', 'himself', \"hadn't\", 'who', 'y', 'just', \"needn't\", 'this', 'haven', 'have', 'but', 'other', 'being', 'when', 'having', 'does', 'few', 'with', 'the', 'them', 'same', 'to', 'are', 'further', 'after', 'yourselves', 'here', 'yours', 'once', 'he', 'hasn', 'has', 'hers', \"wasn't\", 'most', 'do', 'hadn'}\n"
     ]
    }
   ],
   "source": [
    "stop=set(stopwords.words('english'))\n",
    "print(stop)\n",
    "\n",
    "def remove_stopwords(text, is_lower_case=False):\n",
    "    tokens = tokenizer.tokenize(text)\n",
    "    tokens = [token.strip() for token in tokens]\n",
    "    if is_lower_case:\n",
    "        filtered_tokens = [token for token in tokens if token not in stopword_list]\n",
    "    else:\n",
    "        filtered_tokens = [token for token in tokens if token.lower() not in stopword_list]\n",
    "    filtered_text = ' '.join(filtered_tokens)    \n",
    "    return filtered_text\n",
    "data['review']=data['review'].apply(remove_stopwords)"
   ]
  },
  {
   "cell_type": "code",
   "execution_count": 47,
   "metadata": {},
   "outputs": [],
   "source": [
    "def simple_stemmer(text):\n",
    "    ps=nltk.porter.PorterStemmer()\n",
    "    text= ' '.join([ps.stem(word) for word in text.split()])\n",
    "    return text\n",
    "#Apply function on review column\n",
    "data['review']=data['review'].apply(simple_stemmer)"
   ]
  },
  {
   "cell_type": "code",
   "execution_count": 48,
   "metadata": {},
   "outputs": [
    {
     "name": "stdout",
     "output_type": "stream",
     "text": [
      "<class 'pandas.core.frame.DataFrame'>\n",
      "Int64Index: 4894 entries, 0 to 4999\n",
      "Data columns (total 6 columns):\n",
      " #   Column         Non-Null Count  Dtype  \n",
      "---  ------         --------------  -----  \n",
      " 0   Name of Movie  4894 non-null   object \n",
      " 1   Year           4894 non-null   float64\n",
      " 2   Genre          4894 non-null   object \n",
      " 3   Rating         4894 non-null   float64\n",
      " 4   review         4894 non-null   object \n",
      " 5   sentiment      4894 non-null   object \n",
      "dtypes: float64(2), object(4)\n",
      "memory usage: 267.6+ KB\n"
     ]
    }
   ],
   "source": [
    "#drop the null values in Year\n",
    "data.dropna(subset=['Year'],inplace=True)\n",
    "data.dropna(subset = ['sentiment']  , inplace=True)\n",
    "data.info()"
   ]
  },
  {
   "cell_type": "code",
   "execution_count": 49,
   "metadata": {},
   "outputs": [
    {
     "data": {
      "text/plain": [
       "'seri random seemingli insignific theft sister board hous miss lemon quit agit ring light bulb rucksack lighter stethoscop shoe seem rhyme reason miss lemon ask employ great belgian detect hercul poirot look matter poirot see someth far sinist miss lemon could imagin poirot fear confirm one student live board hous found murder poirot bring killer justicebr br hickori dickori dock solid spectacular entri long run poirot seri appreci faith script agatha christi origin stori realiz certain liberti taken appreci effort nonetheless major point mysteri petti theft board hous student rip rucksack cours poirot abil see someth sinist go actual happen except cast student almost pictur damian lewi jessica lloyd standout among group mush alway enjoy david suchet poirot get real kick episod phillip jackson inspector japp paulin moran miss lemon episod real treat miss lemon get screen time usual final enjoy use ever present mous observ activ hostel fun littl play hickori dickori dock titlebr br realiz rewatch hickori dickori dock tremend influenc agatha christi work highli styliz italian mysteri film gialli 60 70 take murder mr nicoleti exampl bump graphic natur scene would someth straight earli 70 giallo fact entir plot hickori dickori dock could use giallo convolut interest enough work'"
      ]
     },
     "execution_count": 49,
     "metadata": {},
     "output_type": "execute_result"
    }
   ],
   "source": [
    "norm_train_reviews=data.review[:2447]\n",
    "norm_train_reviews[0]\n",
    "norm_test_reviews=data.review[2447:]\n",
    "norm_test_reviews[2555]"
   ]
  },
  {
   "cell_type": "code",
   "execution_count": 50,
   "metadata": {},
   "outputs": [
    {
     "name": "stdout",
     "output_type": "stream",
     "text": [
      "Tfidf_train: (2447, 493550)\n",
      "Tfidf_test: (2447, 493550)\n"
     ]
    }
   ],
   "source": [
    "tv=TfidfVectorizer(min_df=0,max_df=1,use_idf=True,ngram_range=(1,3))\n",
    "#transformed train reviews\n",
    "tv_train_reviews=tv.fit_transform(norm_train_reviews)\n",
    "#transformed test reviews\n",
    "tv_test_reviews=tv.transform(norm_test_reviews)\n",
    "print('Tfidf_train:',tv_train_reviews.shape)\n",
    "print('Tfidf_test:',tv_test_reviews.shape)"
   ]
  },
  {
   "cell_type": "code",
   "execution_count": 51,
   "metadata": {},
   "outputs": [
    {
     "name": "stdout",
     "output_type": "stream",
     "text": [
      "(4894, 1)\n"
     ]
    }
   ],
   "source": [
    "lb=LabelBinarizer()\n",
    "#transformed sentiment data\n",
    "sentiment_data=lb.fit_transform(data['sentiment'])\n",
    "print(sentiment_data.shape)"
   ]
  },
  {
   "cell_type": "code",
   "execution_count": 52,
   "metadata": {},
   "outputs": [
    {
     "name": "stdout",
     "output_type": "stream",
     "text": [
      "train_sentiments: (2447, 1)\n",
      "test_sentiments: (2447, 1)\n"
     ]
    }
   ],
   "source": [
    "train_sentiments=sentiment_data[:2447]\n",
    "test_sentiments=sentiment_data[2447:]\n",
    "#make sure that both train and test sentiments are of same shape\n",
    "print('train_sentiments:',train_sentiments.shape)\n",
    "print('test_sentiments:',test_sentiments.shape)\n",
    "#if they are not of same shape then use ravel() function\n"
   ]
  },
  {
   "cell_type": "code",
   "execution_count": 53,
   "metadata": {},
   "outputs": [],
   "source": [
    "#Use accuracy_score function to get the accuracy\n"
   ]
  },
  {
   "cell_type": "code",
   "execution_count": 54,
   "metadata": {},
   "outputs": [
    {
     "name": "stdout",
     "output_type": "stream",
     "text": [
      "SGDClassifier(max_iter=500, random_state=42)\n"
     ]
    },
    {
     "name": "stderr",
     "output_type": "stream",
     "text": [
      "c:\\Users\\Mohammad Noor Malik\\AppData\\Local\\Programs\\Python\\Python39\\lib\\site-packages\\sklearn\\utils\\validation.py:993: DataConversionWarning: A column-vector y was passed when a 1d array was expected. Please change the shape of y to (n_samples, ), for example using ravel().\n",
      "  y = column_or_1d(y, warn=True)\n"
     ]
    }
   ],
   "source": [
    "#training the linear svm\n",
    "from sklearn.linear_model import LogisticRegression,SGDClassifier\n",
    "\n",
    "svm=SGDClassifier(loss='hinge',max_iter=500,random_state=42)\n",
    "#fitting the svm for tfidf features\n",
    "svm_tfidf=svm.fit(tv_train_reviews,train_sentiments)\n",
    "print(svm_tfidf)"
   ]
  },
  {
   "cell_type": "code",
   "execution_count": 55,
   "metadata": {},
   "outputs": [
    {
     "name": "stdout",
     "output_type": "stream",
     "text": [
      "[1 0 0 ... 0 0 1]\n"
     ]
    }
   ],
   "source": [
    "#Predicting the model for tfidf features\n",
    "svm_tfidf_predict=svm.predict(tv_test_reviews)\n",
    "print(svm_tfidf_predict)\n"
   ]
  },
  {
   "cell_type": "code",
   "execution_count": 56,
   "metadata": {},
   "outputs": [
    {
     "name": "stdout",
     "output_type": "stream",
     "text": [
      "svm_tfidf_score : 0.6738863914997957\n"
     ]
    }
   ],
   "source": [
    "#Accuracy score for tfidf features\n",
    "svm_tfidf_score=accuracy_score(test_sentiments,svm_tfidf_predict)\n",
    "print(\"svm_tfidf_score :\",svm_tfidf_score)"
   ]
  },
  {
   "cell_type": "code",
   "execution_count": 57,
   "metadata": {},
   "outputs": [
    {
     "name": "stdout",
     "output_type": "stream",
     "text": [
      "              precision    recall  f1-score   support\n",
      "\n",
      "    Positive       0.66      0.75      0.70      1246\n",
      "    Negative       0.70      0.60      0.64      1201\n",
      "\n",
      "    accuracy                           0.67      2447\n",
      "   macro avg       0.68      0.67      0.67      2447\n",
      "weighted avg       0.68      0.67      0.67      2447\n",
      "\n"
     ]
    }
   ],
   "source": [
    "svm_tfidf_report=classification_report(test_sentiments,svm_tfidf_predict,target_names=['Positive','Negative'])\n",
    "print(svm_tfidf_report)\n"
   ]
  }
 ],
 "metadata": {
  "kernelspec": {
   "display_name": "Python 3.9.6 64-bit",
   "language": "python",
   "name": "python3"
  },
  "language_info": {
   "codemirror_mode": {
    "name": "ipython",
    "version": 3
   },
   "file_extension": ".py",
   "mimetype": "text/x-python",
   "name": "python",
   "nbconvert_exporter": "python",
   "pygments_lexer": "ipython3",
   "version": "3.9.6"
  },
  "orig_nbformat": 4,
  "vscode": {
   "interpreter": {
    "hash": "1f5872f2c0b4fbc6872e99e909d23c96942f4865878d66f64446b7183e15e64c"
   }
  }
 },
 "nbformat": 4,
 "nbformat_minor": 2
}
